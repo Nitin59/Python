{
  "nbformat": 4,
  "nbformat_minor": 0,
  "metadata": {
    "colab": {
      "name": "week 1 sat.ipynb",
      "version": "0.3.2",
      "provenance": [],
      "include_colab_link": true
    },
    "kernelspec": {
      "name": "python3",
      "display_name": "Python 3"
    }
  },
  "cells": [
    {
      "cell_type": "markdown",
      "metadata": {
        "id": "view-in-github",
        "colab_type": "text"
      },
      "source": [
        "<a href=\"https://colab.research.google.com/github/Nitin59/Python/blob/master/week_1_sat.ipynb\" target=\"_parent\"><img src=\"https://colab.research.google.com/assets/colab-badge.svg\" alt=\"Open In Colab\"/></a>"
      ]
    },
    {
      "cell_type": "code",
      "metadata": {
        "id": "P5rc_S7lltvI",
        "colab_type": "code",
        "colab": {}
      },
      "source": [
        "print (\"Hello world\")\n",
        "\n",
        "a = int (input (\"Kindly enter 1st number\"))\n",
        "b =int(input (\"kindly enter 2nd number\"))\n",
        "d = str (input (\"kindly enter 3rd number\"))\n",
        "c = a+b\n",
        "\n",
        "print (\"addition of two number is\",c)\n",
        "print (\"addition of two number is\",c)"
      ],
      "execution_count": 0,
      "outputs": []
    },
    {
      "cell_type": "code",
      "metadata": {
        "id": "RlEa42QtmDxR",
        "colab_type": "code",
        "colab": {}
      },
      "source": [
        "\n",
        "\n",
        "a = int (input (\"kindly enter the integer\"))\n",
        "b = int (input (\"kindly enter the number\")) \n",
        "c= (a+b)/(a-b)\n",
        "\n",
        "print (addition of first two numbers)\n"
      ],
      "execution_count": 0,
      "outputs": []
    },
    {
      "cell_type": "code",
      "metadata": {
        "id": "-7jqlKKEmRqm",
        "colab_type": "code",
        "colab": {}
      },
      "source": [
        "a= int (input (\"kindly enter the integer\"))\n",
        "b= float (input (\"kindly enter the float\"))\n",
        "c= str (input(\"kindly enter the string\"))\n",
        "d= a>b\n",
        "\n",
        "print (\"a is {}, b is {}, c is {} and value of d is {}\". format (a,b,c,d))"
      ],
      "execution_count": 0,
      "outputs": []
    },
    {
      "cell_type": "code",
      "metadata": {
        "id": "1r4RVJc-mKo0",
        "colab_type": "code",
        "colab": {}
      },
      "source": [
        "a = int (input (\"Kindly enter 1st number\"))\n",
        "b =int(input (\"kindly enter 2nd number\"))\n",
        "\n",
        "c = a+b\n",
        "d = a-b\n",
        "e = a*b\n",
        "f = a/b\n",
        "\n",
        "print (\"addition of two number is\",c)\n",
        "print (\"product of two number is\",d)"
      ],
      "execution_count": 0,
      "outputs": []
    }
  ]
}